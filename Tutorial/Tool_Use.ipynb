{
 "cells": [
  {
   "cell_type": "markdown",
   "metadata": {},
   "source": [
    "\n",
    "> **AutoGen > Tutorial > Tool Use**\n",
    "https://microsoft.github.io/autogen/0.2/docs/tutorial/tool-use"
   ]
  },
  {
   "cell_type": "markdown",
   "metadata": {},
   "source": [
    "# Tool Use\n",
    "\n",
    "이번 장에서는 에이전트에게 프로그래밍의 기능을 부여한 `code executors`**(코드 실행기)**에 대해 살펴봤다.\n",
    "> **AutoGen > Tutorial > Tool Use**\n",
    "https://velog.io/@heyggun/AutoGen-Code-Executors-UserProxyAgent-AssistantAgent\n",
    "\n",
    "에이전트가 임의의 코드를 작성할 수 있다는 것은 유용하지만, 어떤 코드를 작성하게 할지 제어하는 것은 어려울 수 있다. 이때 **`Tool`** 이 등장한다.\n",
    "`Tool`은 에이전트가 사용할 수 있는 미리 정의된 함수이다. 에이전트가 임의의 코드를 작성하는 대신, 툴을 호출하여 웹 검색, 계산 수행, 파일 읽기, 원격 API 호출 등의 작업을 수행할 수 있다. 어떤 툴을 에이전트에게 제공할지를 통제함으로써, 에이전트가 수행할 수 있는 작업도 제어할 수 있게 된다. \n",
    "\n",
    "**참고로 Tool 사용은 OpenAI 호환 툴 호출 API(OpenAI-compatible tool call API)를 지원하는 LLM에서만 가능하다**\n"
   ]
  },
  {
   "cell_type": "markdown",
   "metadata": {},
   "source": [
    "## Creating Tools\n",
    "\n",
    "`Tools`은 일반적인 python 함수로 만들 수 있다.\n",
    "예를 들어 하나의 연산만 수행할 수 있는 계산기 툴을 아래와 같이 만들어 보자.\n"
   ]
  },
  {
   "cell_type": "code",
   "execution_count": 1,
   "metadata": {},
   "outputs": [],
   "source": [
    "from typing import Annotated, Literal"
   ]
  },
  {
   "cell_type": "code",
   "execution_count": 2,
   "metadata": {},
   "outputs": [],
   "source": [
    "Operator = Literal[\"+\", \"-\", \"*\", \"/\"]\n",
    "\n",
    "def calculator(a:int, b:int, operator: Annotated[Operator, \"operator\"]) -> int:\n",
    "    if operator == \"+\":\n",
    "        return a+b\n",
    "    elif operator == \"-\":\n",
    "        return a-b\n",
    "    elif operator == \"*\":\n",
    "        return a*b\n",
    "    elif operator == \"/\":\n",
    "        return int(a/b)\n",
    "    else:\n",
    "        raise ValueError(\"Invalid operator\")"
   ]
  },
  {
   "cell_type": "markdown",
   "metadata": {},
   "source": [
    "위 함수는 세 개의 인자를 받는다 `a`와 `b`는 연산에 사용될 정수이고, `operator`는 수행할 연산을 나타낸다. 여기서 **type hint**를 사용해서 인자와 반환 값의 타입을 정의했다.\n",
    "\n",
    "> arguments(인자)와 return value(반환값)을 정의할 때는 항상 type hint(타입 힌트)를 사용하라. 타입 힌트는 툴의 사용법에 대해 에이저늩에게 유용한 정보를 제공한다."
   ]
  },
  {
   "cell_type": "markdown",
   "metadata": {},
   "source": [
    "## Registering Tools\n",
    "\n",
    "툴을 만들었으면, 이제 대화에 참여하는 에이전트에게 그 툴을 `**register(등록)**` 할 수 있다."
   ]
  },
  {
   "cell_type": "code",
   "execution_count": 4,
   "metadata": {},
   "outputs": [],
   "source": [
    "import os\n",
    "from autogen import ConversableAgent\n",
    "from config import settings\n",
    "\n",
    "api_key= settings.openai_api_key.get_secret_value()"
   ]
  },
  {
   "cell_type": "code",
   "execution_count": 5,
   "metadata": {},
   "outputs": [],
   "source": [
    "llm_config = {\n",
    "    \"config_list\":\n",
    "        [\n",
    "            {\n",
    "                \"model\" : \"gpt-4o-mini\",\n",
    "                \"api_key\" : api_key,\n",
    "            }\n",
    "        ]\n",
    "}"
   ]
  },
  {
   "cell_type": "code",
   "execution_count": 11,
   "metadata": {},
   "outputs": [
    {
     "data": {
      "text/plain": [
       "10900"
      ]
     },
     "execution_count": 11,
     "metadata": {},
     "output_type": "execute_result"
    }
   ],
   "source": [
    "20000-(6500+2600)"
   ]
  },
  {
   "cell_type": "code",
   "execution_count": 9,
   "metadata": {},
   "outputs": [
    {
     "data": {
      "text/plain": [
       "<autogen.tools.tool.Tool at 0x115679810>"
      ]
     },
     "execution_count": 9,
     "metadata": {},
     "output_type": "execute_result"
    }
   ],
   "source": [
    "assistant = ConversableAgent(\n",
    "    name = \"Assistant\",\n",
    "    system_message= \"\"\"You are a helpful AI assistant. You can help with simple calculations.\n",
    "Return 'TERMINATE' when the task is done\"\"\",\n",
    "    llm_config = llm_config,\n",
    ")\n",
    "\n",
    "user_proxy = ConversableAgent(\n",
    "    name=\"User\",\n",
    "    llm_config=False,\n",
    "    is_termination_msg= lambda msg : msg.get(\"content\") is not None and \"TERMINATE\" in msg[\"content\"],\n",
    "    human_input_mode = \"NEVER\",\n",
    ")\n",
    "\n",
    "assistant.register_for_llm(name=\"calculator\",\n",
    "                           description=\"A simple calculator\")(calculator)\n",
    "\n",
    "user_proxy.register_for_execution(name=\"calculator\")(calculator)"
   ]
  },
  {
   "cell_type": "markdown",
   "metadata": {},
   "source": [
    "위 코드에서는 `calculator` 함수를  **tool**로 등록해서, 어시스턴트 에이전트와 유저 프록시 에이전트가 사용할 수 있또록 했다. 또한 어시스턴트 에이전트가 툴의 용도를 이해할 수 있도록 **툴의 이름 (name=calculator)과 설명(description)도 함께 제공한다.\n",
    "\n",
    "> 팁:\n",
    "툴에는 항상 명확하고 간결한 설명을 제공해야 한다.\n",
    "이는 에이전트 기반의 LLM이 툴의 용도를 이해하는데 큰 도움이 된다.\n",
    "\n",
    "코드 실행기와 마찬가지로, 도구는 대화에서 유용하게 사용되기 위해 최소한 두 개의 에이전트에 등록되어야 한다\n",
    "`register_for_llm`을 통해 도구의 시그니처를 등록한 에이전트는 해당 도구를 **call(호출)** 할수 있고,\n",
    "`register_for_execution`을 통해 도구의 함수 객체를 등록한 에이전트는 도구의 기능을 **execute(실행)** 할 수 있다.\n",
    "\n",
    "또는 `autogen.register_function` 함수를 사용하면 두 에이전트 모두에 한 번에 도구를 등록할 수 있다."
   ]
  },
  {
   "cell_type": "markdown",
   "metadata": {},
   "source": [
    "## Using Tool"
   ]
  },
  {
   "cell_type": "code",
   "execution_count": 12,
   "metadata": {},
   "outputs": [
    {
     "name": "stdout",
     "output_type": "stream",
     "text": [
      "\u001b[33mUser\u001b[0m (to Assistant):\n",
      "\n",
      "What is (44232+13312 / (232-32)) *5?\n",
      "\n",
      "--------------------------------------------------------------------------------\n",
      "\u001b[31m\n",
      ">>>>>>>> USING AUTO REPLY...\u001b[0m\n",
      "\u001b[33mAssistant\u001b[0m (to User):\n",
      "\n",
      "\u001b[32m***** Suggested tool call (call_iqtFUDyewhq7CPCEAoSQ98lG): calculator *****\u001b[0m\n",
      "Arguments: \n",
      "{\"a\": 13312, \"b\": 200, \"operator\": \"/\"}\n",
      "\u001b[32m***************************************************************************\u001b[0m\n",
      "\u001b[32m***** Suggested tool call (call_iWFBO6P468D4ScbRaakewybm): calculator *****\u001b[0m\n",
      "Arguments: \n",
      "{\"a\": 232, \"b\": 32, \"operator\": \"-\"}\n",
      "\u001b[32m***************************************************************************\u001b[0m\n",
      "\n",
      "--------------------------------------------------------------------------------\n",
      "\u001b[35m\n",
      ">>>>>>>> EXECUTING FUNCTION calculator...\n",
      "Call ID: call_iqtFUDyewhq7CPCEAoSQ98lG\n",
      "Input arguments: {'a': 13312, 'b': 200, 'operator': '/'}\u001b[0m\n",
      "\u001b[35m\n",
      ">>>>>>>> EXECUTING FUNCTION calculator...\n",
      "Call ID: call_iWFBO6P468D4ScbRaakewybm\n",
      "Input arguments: {'a': 232, 'b': 32, 'operator': '-'}\u001b[0m\n",
      "\u001b[33mUser\u001b[0m (to Assistant):\n",
      "\n",
      "\u001b[32m***** Response from calling tool (call_iqtFUDyewhq7CPCEAoSQ98lG) *****\u001b[0m\n",
      "66\n",
      "\u001b[32m**********************************************************************\u001b[0m\n",
      "\n",
      "--------------------------------------------------------------------------------\n",
      "\u001b[32m***** Response from calling tool (call_iWFBO6P468D4ScbRaakewybm) *****\u001b[0m\n",
      "200\n",
      "\u001b[32m**********************************************************************\u001b[0m\n",
      "\n",
      "--------------------------------------------------------------------------------\n",
      "\u001b[31m\n",
      ">>>>>>>> USING AUTO REPLY...\u001b[0m\n",
      "\u001b[33mAssistant\u001b[0m (to User):\n",
      "\n",
      "\u001b[32m***** Suggested tool call (call_DMM8e04s66S9Pc5bUrKbkzJy): calculator *****\u001b[0m\n",
      "Arguments: \n",
      "{\"a\":44232,\"b\":66,\"operator\":\"+\"}\n",
      "\u001b[32m***************************************************************************\u001b[0m\n",
      "\n",
      "--------------------------------------------------------------------------------\n",
      "\u001b[35m\n",
      ">>>>>>>> EXECUTING FUNCTION calculator...\n",
      "Call ID: call_DMM8e04s66S9Pc5bUrKbkzJy\n",
      "Input arguments: {'a': 44232, 'b': 66, 'operator': '+'}\u001b[0m\n",
      "\u001b[33mUser\u001b[0m (to Assistant):\n",
      "\n",
      "\u001b[32m***** Response from calling tool (call_DMM8e04s66S9Pc5bUrKbkzJy) *****\u001b[0m\n",
      "44298\n",
      "\u001b[32m**********************************************************************\u001b[0m\n",
      "\n",
      "--------------------------------------------------------------------------------\n",
      "\u001b[31m\n",
      ">>>>>>>> USING AUTO REPLY...\u001b[0m\n",
      "\u001b[33mAssistant\u001b[0m (to User):\n",
      "\n",
      "\u001b[32m***** Suggested tool call (call_aQMfX2XwwybScjiWADeqqLmQ): calculator *****\u001b[0m\n",
      "Arguments: \n",
      "{\"a\":44298,\"b\":5,\"operator\":\"*\"}\n",
      "\u001b[32m***************************************************************************\u001b[0m\n",
      "\n",
      "--------------------------------------------------------------------------------\n",
      "\u001b[35m\n",
      ">>>>>>>> EXECUTING FUNCTION calculator...\n",
      "Call ID: call_aQMfX2XwwybScjiWADeqqLmQ\n",
      "Input arguments: {'a': 44298, 'b': 5, 'operator': '*'}\u001b[0m\n",
      "\u001b[33mUser\u001b[0m (to Assistant):\n",
      "\n",
      "\u001b[32m***** Response from calling tool (call_aQMfX2XwwybScjiWADeqqLmQ) *****\u001b[0m\n",
      "221490\n",
      "\u001b[32m**********************************************************************\u001b[0m\n",
      "\n",
      "--------------------------------------------------------------------------------\n",
      "\u001b[31m\n",
      ">>>>>>>> USING AUTO REPLY...\u001b[0m\n",
      "\u001b[33mAssistant\u001b[0m (to User):\n",
      "\n",
      "The result of the expression \\((44232 + \\frac{13312}{(232 - 32)}) \\times 5\\) is \\(221490\\).\n",
      "\n",
      "TERMINATE\n",
      "\n",
      "--------------------------------------------------------------------------------\n",
      "\u001b[31m\n",
      ">>>>>>>> TERMINATING RUN (d18079ce-6608-47bf-a230-61099af9478e): Termination message condition on agent 'User' met\u001b[0m\n"
     ]
    }
   ],
   "source": [
    "chat_result = user_proxy.initiate_chat(assistant, message=\"What is (44232+13312 / (232-32)) *5?\")"
   ]
  },
  {
   "cell_type": "code",
   "execution_count": 14,
   "metadata": {},
   "outputs": [
    {
     "data": {
      "text/plain": [
       "221490"
      ]
     },
     "execution_count": 14,
     "metadata": {},
     "output_type": "execute_result"
    }
   ],
   "source": [
    "(44232+ int(13312 / (232-32))) *5"
   ]
  },
  {
   "cell_type": "code",
   "execution_count": null,
   "metadata": {},
   "outputs": [],
   "source": []
  },
  {
   "cell_type": "markdown",
   "metadata": {},
   "source": [
    "## Tool Schema"
   ]
  },
  {
   "cell_type": "code",
   "execution_count": 15,
   "metadata": {},
   "outputs": [
    {
     "data": {
      "text/plain": [
       "[{'type': 'function',\n",
       "  'function': {'description': 'A simple calculator',\n",
       "   'name': 'calculator',\n",
       "   'parameters': {'type': 'object',\n",
       "    'properties': {'a': {'type': 'integer', 'description': 'a'},\n",
       "     'b': {'type': 'integer', 'description': 'b'},\n",
       "     'operator': {'enum': ['+', '-', '*', '/'],\n",
       "      'type': 'string',\n",
       "      'description': 'operator'}},\n",
       "    'required': ['a', 'b', 'operator']}}}]"
      ]
     },
     "execution_count": 15,
     "metadata": {},
     "output_type": "execute_result"
    }
   ],
   "source": [
    "assistant.llm_config['tools']"
   ]
  },
  {
   "cell_type": "markdown",
   "metadata": {},
   "source": [
    "**`tool schema`**는 `function signature(함수 시그니처)`, `type hints(타입 힌트)`, `description(설명)`으로부터 자동으로 생성된 것을 확인할 수 있다. 이 때문에 타입 힌트를 사용하고 도구에 대해 명확한 설명을 제공하는 것이 중요하다.\n",
    "LLM은 이를 바탕으로 도구의 사용 방식을 이해한다.\n",
    "또한 보다 복잡한 `type schema`를 제공하기 위해, **Pydantic** 모델을 타입 힌트로 사용할 수도 있다. 아래 예시에는 `pydantic` 모델을 사용해서 계산기의 입력값을 정의하는 것이다"
   ]
  },
  {
   "cell_type": "code",
   "execution_count": 17,
   "metadata": {},
   "outputs": [],
   "source": [
    "from pydantic import BaseModel, Field\n",
    "\n",
    "class CalculatorInput(BaseModel):\n",
    "    a: Annotated[int, Field(description=\"The first number.\")]\n",
    "    b: Annotated[int, Field(descirption=\"The second number.\")]\n",
    "    operator: Annotated[Operator, Field(description=\"The operator .\")]\n",
    "    \n",
    "def calculator(input: Annotated[CalculatorInput, \"Input to the calculator.\"]) -> int:\n",
    "    if input.operator == \"+\":\n",
    "        return input.a + input.b\n",
    "    elif input.operator == \"-\":\n",
    "        return input.a - input.b\n",
    "    elif input.operator == \"*\":\n",
    "        return input.a * input.b\n",
    "    elif input.operator == \"/\":\n",
    "        return int(input.a / input.b)\n",
    "    else:\n",
    "        raise ValueError(\"Invalid operator\")\n",
    "    "
   ]
  },
  {
   "cell_type": "code",
   "execution_count": 18,
   "metadata": {},
   "outputs": [
    {
     "name": "stderr",
     "output_type": "stream",
     "text": [
      "/Users/geonheekim/Library/Caches/pypoetry/virtualenvs/user-prediction-jY4gRI11-py3.11/lib/python3.11/site-packages/autogen/agentchat/conversable_agent.py:3467: UserWarning: Function 'calculator' is being overridden.\n",
      "  warnings.warn(f\"Function '{tool_sig['function']['name']}' is being overridden.\", UserWarning)\n",
      "/Users/geonheekim/Library/Caches/pypoetry/virtualenvs/user-prediction-jY4gRI11-py3.11/lib/python3.11/site-packages/autogen/agentchat/conversable_agent.py:3365: UserWarning: Function 'calculator' is being overridden.\n",
      "  warnings.warn(f\"Function '{name}' is being overridden.\", UserWarning)\n"
     ]
    },
    {
     "data": {
      "text/plain": [
       "<autogen.tools.tool.Tool at 0x1156f9e50>"
      ]
     },
     "execution_count": 18,
     "metadata": {},
     "output_type": "execute_result"
    }
   ],
   "source": [
    "assistant.register_for_llm(name=\"calculator\",\n",
    "                           description=\"A calculator tool that accepts nested expression as input\")(calculator)\n",
    "user_proxy.register_for_execution(name=\"calculator\")(calculator)"
   ]
  },
  {
   "cell_type": "code",
   "execution_count": 19,
   "metadata": {},
   "outputs": [
    {
     "data": {
      "text/plain": [
       "[{'type': 'function',\n",
       "  'function': {'description': 'A calculator tool that accepts nested expression as input',\n",
       "   'name': 'calculator',\n",
       "   'parameters': {'type': 'object',\n",
       "    'properties': {'input': {'properties': {'a': {'description': 'The first number.',\n",
       "        'title': 'A',\n",
       "        'type': 'integer'},\n",
       "       'b': {'descirption': 'The second number.',\n",
       "        'title': 'B',\n",
       "        'type': 'integer'},\n",
       "       'operator': {'description': 'The operator .',\n",
       "        'enum': ['+', '-', '*', '/'],\n",
       "        'title': 'Operator',\n",
       "        'type': 'string'}},\n",
       "      'required': ['a', 'b', 'operator'],\n",
       "      'title': 'CalculatorInput',\n",
       "      'type': 'object',\n",
       "      'description': 'Input to the calculator.'}},\n",
       "    'required': ['input']}}}]"
      ]
     },
     "execution_count": 19,
     "metadata": {},
     "output_type": "execute_result"
    }
   ],
   "source": [
    "assistant.llm_config[\"tools\"]"
   ]
  },
  {
   "cell_type": "code",
   "execution_count": 20,
   "metadata": {},
   "outputs": [
    {
     "name": "stdout",
     "output_type": "stream",
     "text": [
      "\u001b[33mUser\u001b[0m (to Assistant):\n",
      "\n",
      "What is (1423 - 123) / 3 + (32 + 23) * 5?\n",
      "\n",
      "--------------------------------------------------------------------------------\n",
      "\u001b[31m\n",
      ">>>>>>>> USING AUTO REPLY...\u001b[0m\n",
      "\u001b[33mAssistant\u001b[0m (to User):\n",
      "\n",
      "\u001b[32m***** Suggested tool call (call_uS1MoGvOykLHpSOPYczzQSY5): calculator *****\u001b[0m\n",
      "Arguments: \n",
      "{\"input\": {\"a\": 1423, \"b\": 123, \"operator\": \"-\"}}\n",
      "\u001b[32m***************************************************************************\u001b[0m\n",
      "\u001b[32m***** Suggested tool call (call_omZSw7dVuvROKKVEzaXHFDK6): calculator *****\u001b[0m\n",
      "Arguments: \n",
      "{\"input\": {\"a\": 32, \"b\": 23, \"operator\": \"+\"}}\n",
      "\u001b[32m***************************************************************************\u001b[0m\n",
      "\n",
      "--------------------------------------------------------------------------------\n",
      "\u001b[35m\n",
      ">>>>>>>> EXECUTING FUNCTION calculator...\n",
      "Call ID: call_uS1MoGvOykLHpSOPYczzQSY5\n",
      "Input arguments: {'input': {'a': 1423, 'b': 123, 'operator': '-'}}\u001b[0m\n",
      "\u001b[35m\n",
      ">>>>>>>> EXECUTING FUNCTION calculator...\n",
      "Call ID: call_omZSw7dVuvROKKVEzaXHFDK6\n",
      "Input arguments: {'input': {'a': 32, 'b': 23, 'operator': '+'}}\u001b[0m\n",
      "\u001b[33mUser\u001b[0m (to Assistant):\n",
      "\n",
      "\u001b[32m***** Response from calling tool (call_uS1MoGvOykLHpSOPYczzQSY5) *****\u001b[0m\n",
      "1300\n",
      "\u001b[32m**********************************************************************\u001b[0m\n",
      "\n",
      "--------------------------------------------------------------------------------\n",
      "\u001b[32m***** Response from calling tool (call_omZSw7dVuvROKKVEzaXHFDK6) *****\u001b[0m\n",
      "55\n",
      "\u001b[32m**********************************************************************\u001b[0m\n",
      "\n",
      "--------------------------------------------------------------------------------\n",
      "\u001b[31m\n",
      ">>>>>>>> USING AUTO REPLY...\u001b[0m\n",
      "\u001b[33mAssistant\u001b[0m (to User):\n",
      "\n",
      "\u001b[32m***** Suggested tool call (call_tum5tOUmOt00enSgYFv4nx2J): calculator *****\u001b[0m\n",
      "Arguments: \n",
      "{\"input\":{\"a\":1300,\"b\":3,\"operator\":\"/\"} }\n",
      "\u001b[32m***************************************************************************\u001b[0m\n",
      "\n",
      "--------------------------------------------------------------------------------\n",
      "\u001b[35m\n",
      ">>>>>>>> EXECUTING FUNCTION calculator...\n",
      "Call ID: call_tum5tOUmOt00enSgYFv4nx2J\n",
      "Input arguments: {'input': {'a': 1300, 'b': 3, 'operator': '/'}}\u001b[0m\n",
      "\u001b[33mUser\u001b[0m (to Assistant):\n",
      "\n",
      "\u001b[32m***** Response from calling tool (call_tum5tOUmOt00enSgYFv4nx2J) *****\u001b[0m\n",
      "433\n",
      "\u001b[32m**********************************************************************\u001b[0m\n",
      "\n",
      "--------------------------------------------------------------------------------\n",
      "\u001b[31m\n",
      ">>>>>>>> USING AUTO REPLY...\u001b[0m\n",
      "\u001b[33mAssistant\u001b[0m (to User):\n",
      "\n",
      "\u001b[32m***** Suggested tool call (call_2DHKQYFyvE4o2fVKbQQYaR13): calculator *****\u001b[0m\n",
      "Arguments: \n",
      "{\"input\":{\"a\":55,\"b\":5,\"operator\":\"*\"}}\n",
      "\u001b[32m***************************************************************************\u001b[0m\n",
      "\n",
      "--------------------------------------------------------------------------------\n",
      "\u001b[35m\n",
      ">>>>>>>> EXECUTING FUNCTION calculator...\n",
      "Call ID: call_2DHKQYFyvE4o2fVKbQQYaR13\n",
      "Input arguments: {'input': {'a': 55, 'b': 5, 'operator': '*'}}\u001b[0m\n",
      "\u001b[33mUser\u001b[0m (to Assistant):\n",
      "\n",
      "\u001b[32m***** Response from calling tool (call_2DHKQYFyvE4o2fVKbQQYaR13) *****\u001b[0m\n",
      "275\n",
      "\u001b[32m**********************************************************************\u001b[0m\n",
      "\n",
      "--------------------------------------------------------------------------------\n",
      "\u001b[31m\n",
      ">>>>>>>> USING AUTO REPLY...\u001b[0m\n",
      "\u001b[33mAssistant\u001b[0m (to User):\n",
      "\n",
      "\u001b[32m***** Suggested tool call (call_a2vRYAfHYHzgsV5EuBKhJoHo): calculator *****\u001b[0m\n",
      "Arguments: \n",
      "{\"input\":{\"a\":433,\"b\":275,\"operator\":\"+\"}}\n",
      "\u001b[32m***************************************************************************\u001b[0m\n",
      "\n",
      "--------------------------------------------------------------------------------\n",
      "\u001b[35m\n",
      ">>>>>>>> EXECUTING FUNCTION calculator...\n",
      "Call ID: call_a2vRYAfHYHzgsV5EuBKhJoHo\n",
      "Input arguments: {'input': {'a': 433, 'b': 275, 'operator': '+'}}\u001b[0m\n",
      "\u001b[33mUser\u001b[0m (to Assistant):\n",
      "\n",
      "\u001b[32m***** Response from calling tool (call_a2vRYAfHYHzgsV5EuBKhJoHo) *****\u001b[0m\n",
      "708\n",
      "\u001b[32m**********************************************************************\u001b[0m\n",
      "\n",
      "--------------------------------------------------------------------------------\n",
      "\u001b[31m\n",
      ">>>>>>>> USING AUTO REPLY...\u001b[0m\n",
      "\u001b[33mAssistant\u001b[0m (to User):\n",
      "\n",
      "The result of the expression \\((1423 - 123) / 3 + (32 + 23) * 5\\) is 708.\n",
      "\n",
      "TERMINATE\n",
      "\n",
      "--------------------------------------------------------------------------------\n",
      "\u001b[31m\n",
      ">>>>>>>> TERMINATING RUN (dffbb03d-5742-4901-abfe-d82346fb109d): Termination message condition on agent 'User' met\u001b[0m\n"
     ]
    }
   ],
   "source": [
    "chat_result = user_proxy.initiate_chat(assistant, message=\"What is (1423 - 123) / 3 + (32 + 23) * 5?\")\n",
    "\n",
    "\n"
   ]
  },
  {
   "cell_type": "code",
   "execution_count": 21,
   "metadata": {},
   "outputs": [
    {
     "data": {
      "text/plain": [
       "708"
      ]
     },
     "execution_count": 21,
     "metadata": {},
     "output_type": "execute_result"
    }
   ],
   "source": [
    "int((1423 - 123) / 3) + (32 + 23) * 5"
   ]
  },
  {
   "cell_type": "code",
   "execution_count": null,
   "metadata": {},
   "outputs": [],
   "source": []
  },
  {
   "cell_type": "code",
   "execution_count": null,
   "metadata": {},
   "outputs": [],
   "source": []
  }
 ],
 "metadata": {
  "kernelspec": {
   "display_name": "user-prediction-jY4gRI11-py3.11",
   "language": "python",
   "name": "python3"
  },
  "language_info": {
   "codemirror_mode": {
    "name": "ipython",
    "version": 3
   },
   "file_extension": ".py",
   "mimetype": "text/x-python",
   "name": "python",
   "nbconvert_exporter": "python",
   "pygments_lexer": "ipython3",
   "version": "3.11.1"
  }
 },
 "nbformat": 4,
 "nbformat_minor": 2
}
